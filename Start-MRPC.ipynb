{
 "cells": [
  {
   "cell_type": "code",
   "execution_count": null,
   "id": "bae2c494-450e-4c8c-a844-484f89e5b6d0",
   "metadata": {
    "pycharm": {
     "name": "#%%\n"
    }
   },
   "outputs": [
    {
     "name": "stdout",
     "output_type": "stream",
     "text": [
      "\u001B[34m\u001B[1mwandb\u001B[0m: Currently logged in as: \u001B[33mmrni\u001B[0m. Use \u001B[1m`wandb login --relogin`\u001B[0m to force relogin\n",
      "\u001B[34m\u001B[1mwandb\u001B[0m: Tracking run with wandb version 0.16.6\n",
      "\u001B[34m\u001B[1mwandb\u001B[0m: Run data is saved locally in \u001B[35m\u001B[1m/root/BLBPO/wandb/run-20240408_155342-s8tmedae\u001B[0m\n",
      "\u001B[34m\u001B[1mwandb\u001B[0m: Run \u001B[1m`wandb offline`\u001B[0m to turn off syncing.\n",
      "\u001B[34m\u001B[1mwandb\u001B[0m: Syncing run \u001B[33mfluent-deluge-2\u001B[0m\n",
      "\u001B[34m\u001B[1mwandb\u001B[0m: ⭐️ View project at \u001B[34m\u001B[4mhttps://wandb.ai/mrni/blackbox_prompt_tuning\u001B[0m\n",
      "\u001B[34m\u001B[1mwandb\u001B[0m: 🚀 View run at \u001B[34m\u001B[4mhttps://wandb.ai/mrni/blackbox_prompt_tuning/runs/s8tmedae\u001B[0m\n",
      "100%|███████████████████████████████████████| 20/20 [00:00<00:00, 143395.01it/s]\n",
      "__main__ (INFO) [2024-04-08 15:53:45]: ***** Running training *****\n",
      "__main__ (INFO) [2024-04-08 15:53:45]:   Num Epochs = 300\n",
      "__main__ (INFO) [2024-04-08 15:53:45]:   Train data size = 20\n",
      "__main__ (INFO) [2024-04-08 15:53:45]:   Eval data size = 20\n",
      "__main__ (INFO) [2024-04-08 15:53:45]:   Example data size = 100\n",
      "__main__ (INFO) [2024-04-08 15:53:45]:   vocabulary size = 200\n",
      "__main__ (INFO) [2024-04-08 15:53:45]:   Gradient Accumulation steps = 5\n",
      "__main__ (INFO) [2024-04-08 15:53:45]:   Iterations of the upper level problem = 2\n",
      "__main__ (INFO) [2024-04-08 15:53:45]:   Iterations of the lower level problem = 2\n",
      "__main__ (INFO) [2024-04-08 15:53:45]:   Number of example = 4\n",
      "__main__ (INFO) [2024-04-08 15:53:45]:   Length of prompt = 70\n",
      "__main__ (INFO) [2024-04-08 15:54:44]: train_loss: 0.6387667775154113, step: 0\n",
      "__main__ (INFO) [2024-04-08 15:55:44]: train_loss: 0.6611744999885559, step: 1\n",
      "__main__ (INFO) [2024-04-08 15:55:56]: eval-accuracy: 0.75, epoch: 0\n",
      "__main__ (INFO) [2024-04-08 16:00:05]: train_loss: 0.6111492872238159, step: 2\n",
      "__main__ (INFO) [2024-04-08 16:01:30]: train_loss: 0.6803603291511535, step: 3\n",
      "__main__ (INFO) [2024-04-08 16:01:47]: eval-accuracy: 0.75, epoch: 1\n",
      "__main__ (INFO) [2024-04-08 16:05:59]: train_loss: 0.6436713218688965, step: 4\n"
     ]
    }
   ],
   "source": [
    "!python BLBPO-MRPC.py"
   ]
  },
  {
   "cell_type": "code",
   "execution_count": null,
   "id": "74f9b372-a7e4-4cb5-99c0-7caead5c9c78",
   "metadata": {
    "pycharm": {
     "name": "#%%\n"
    }
   },
   "outputs": [],
   "source": []
  }
 ],
 "metadata": {
  "kernelspec": {
   "display_name": "Python 3 (ipykernel)",
   "language": "python",
   "name": "python3"
  },
  "language_info": {
   "codemirror_mode": {
    "name": "ipython",
    "version": 3
   },
   "file_extension": ".py",
   "mimetype": "text/x-python",
   "name": "python",
   "nbconvert_exporter": "python",
   "pygments_lexer": "ipython3",
   "version": "3.8.10"
  }
 },
 "nbformat": 4,
 "nbformat_minor": 5
}