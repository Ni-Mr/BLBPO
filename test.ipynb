{
 "cells": [
  {
   "cell_type": "code",
   "execution_count": 29,
   "id": "031bcb06-2147-4490-9452-2045ab3d5519",
   "metadata": {
    "tags": [],
    "pycharm": {
     "name": "#%%\n"
    }
   },
   "outputs": [
    {
     "name": "stdout",
     "output_type": "stream",
     "text": [
      "100%|█████████████████████████████████████| 200/200 [00:00<00:00, 480447.19it/s]\n",
      "__main__ (INFO) [2024-04-09 22:52:18]: ***** Running testing *****\n",
      "__main__ (INFO) [2024-04-09 22:52:18]:   Test data size = 200\n",
      "__main__ (INFO) [2024-04-09 22:53:01]: accuracy-test: 0.6000000238418579\n"
     ]
    }
   ],
   "source": [
    "!python test-5G.py"
   ]
  },
  {
   "cell_type": "code",
   "execution_count": null,
   "id": "d08db100-1e1d-4076-8366-a5fb39ed1a9f",
   "metadata": {
    "pycharm": {
     "name": "#%%\n"
    }
   },
   "outputs": [
    {
     "name": "stdout",
     "output_type": "stream",
     "text": [
      "100%|█████████████████████████████████████| 200/200 [00:00<00:00, 512437.87it/s]\n",
      "__main__ (INFO) [2024-04-09 23:10:50]: ***** Running testing *****\n",
      "__main__ (INFO) [2024-04-09 23:10:50]:   Test data size = 200\n"
     ]
    }
   ],
   "source": [
    "!python test-MRPC.py"
   ]
  },
  {
   "cell_type": "code",
   "execution_count": 34,
   "id": "6075e87e-3cf6-4dc7-81b8-21ee22555888",
   "metadata": {
    "tags": [],
    "pycharm": {
     "name": "#%%\n"
    }
   },
   "outputs": [
    {
     "name": "stdout",
     "output_type": "stream",
     "text": [
      "100%|█████████████████████████████████████| 200/200 [00:00<00:00, 516858.16it/s]\n",
      "__main__ (INFO) [2024-04-09 23:08:18]: ***** Running testing *****\n",
      "__main__ (INFO) [2024-04-09 23:08:18]:   Test data size = 200\n",
      "__main__ (INFO) [2024-04-09 23:09:01]: accuracy-test: 0.6100000143051147\n"
     ]
    }
   ],
   "source": [
    "!python test-MRPC.py"
   ]
  },
  {
   "cell_type": "code",
   "execution_count": 31,
   "id": "d1e416fb-b7f6-4570-bdf5-5d946a4d907a",
   "metadata": {
    "pycharm": {
     "name": "#%%\n"
    }
   },
   "outputs": [
    {
     "name": "stdout",
     "output_type": "stream",
     "text": [
      "100%|█████████████████████████████████████| 200/200 [00:00<00:00, 771721.07it/s]\n",
      "__main__ (INFO) [2024-04-09 22:55:03]: ***** Running testing *****\n",
      "__main__ (INFO) [2024-04-09 22:55:03]:   Test data size = 200\n",
      "__main__ (INFO) [2024-04-09 22:55:45]: accuracy-test: 0.7350000143051147\n"
     ]
    }
   ],
   "source": [
    "!python test-SST.py"
   ]
  },
  {
   "cell_type": "code",
   "execution_count": 32,
   "id": "4abfa27d-3142-408b-bcc5-1abe7760447b",
   "metadata": {
    "pycharm": {
     "name": "#%%\n"
    }
   },
   "outputs": [
    {
     "name": "stdout",
     "output_type": "stream",
     "text": [
      "100%|█████████████████████████████████████| 200/200 [00:00<00:00, 824028.29it/s]\n",
      "__main__ (INFO) [2024-04-09 22:55:48]: ***** Running testing *****\n",
      "__main__ (INFO) [2024-04-09 22:55:48]:   Test data size = 200\n",
      "__main__ (INFO) [2024-04-09 22:56:42]: accuracy-test: 0.9449999928474426\n"
     ]
    }
   ],
   "source": [
    "!python test-SST.py"
   ]
  },
  {
   "cell_type": "code",
   "execution_count": null,
   "id": "7ebb5dcc-701b-45a3-b42c-f59368d98e47",
   "metadata": {
    "pycharm": {
     "name": "#%%\n"
    }
   },
   "outputs": [],
   "source": []
  }
 ],
 "metadata": {
  "kernelspec": {
   "display_name": "Python 3 (ipykernel)",
   "language": "python",
   "name": "python3"
  },
  "language_info": {
   "codemirror_mode": {
    "name": "ipython",
    "version": 3
   },
   "file_extension": ".py",
   "mimetype": "text/x-python",
   "name": "python",
   "nbconvert_exporter": "python",
   "pygments_lexer": "ipython3",
   "version": "3.8.10"
  }
 },
 "nbformat": 4,
 "nbformat_minor": 5
}