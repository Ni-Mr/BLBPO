{
 "cells": [
  {
   "cell_type": "code",
   "execution_count": null,
   "id": "bae2c494-450e-4c8c-a844-484f89e5b6d0",
   "metadata": {
    "pycharm": {
     "name": "#%%\n"
    }
   },
   "outputs": [
    {
     "name": "stdout",
     "output_type": "stream",
     "text": [
      "\u001B[34m\u001B[1mwandb\u001B[0m: Currently logged in as: \u001B[33mmrni\u001B[0m. Use \u001B[1m`wandb login --relogin`\u001B[0m to force relogin\n",
      "\u001B[34m\u001B[1mwandb\u001B[0m: Tracking run with wandb version 0.16.6\n",
      "\u001B[34m\u001B[1mwandb\u001B[0m: Run data is saved locally in \u001B[35m\u001B[1m/root/BLBPO/wandb/run-20240408_154918-h7n1l07q\u001B[0m\n",
      "\u001B[34m\u001B[1mwandb\u001B[0m: Run \u001B[1m`wandb offline`\u001B[0m to turn off syncing.\n",
      "\u001B[34m\u001B[1mwandb\u001B[0m: Syncing run \u001B[33molive-butterfly-1\u001B[0m\n",
      "\u001B[34m\u001B[1mwandb\u001B[0m: ⭐️ View project at \u001B[34m\u001B[4mhttps://wandb.ai/mrni/blackbox_prompt_tuning\u001B[0m\n",
      "\u001B[34m\u001B[1mwandb\u001B[0m: 🚀 View run at \u001B[34m\u001B[4mhttps://wandb.ai/mrni/blackbox_prompt_tuning/runs/h7n1l07q\u001B[0m\n",
      "100%|███████████████████████████████████████| 20/20 [00:00<00:00, 171546.18it/s]\n",
      "__main__ (INFO) [2024-04-08 15:49:21]: ***** Running training *****\n",
      "__main__ (INFO) [2024-04-08 15:49:21]:   Num Epochs = 300\n",
      "__main__ (INFO) [2024-04-08 15:49:21]:   Train data size = 20\n",
      "__main__ (INFO) [2024-04-08 15:49:21]:   Eval data size = 20\n",
      "__main__ (INFO) [2024-04-08 15:49:21]:   Example data size = 100\n",
      "__main__ (INFO) [2024-04-08 15:49:21]:   vocabulary size = 200\n",
      "__main__ (INFO) [2024-04-08 15:49:21]:   Gradient Accumulation steps = 5\n",
      "__main__ (INFO) [2024-04-08 15:49:21]:   Iterations of the upper level problem = 2\n",
      "__main__ (INFO) [2024-04-08 15:49:21]:   Iterations of the lower level problem = 2\n",
      "__main__ (INFO) [2024-04-08 15:49:21]:   Number of example = 4\n",
      "__main__ (INFO) [2024-04-08 15:49:21]:   Length of prompt = 70\n",
      "__main__ (INFO) [2024-04-08 15:49:52]: train_loss: 0.6486130237579346, step: 0\n",
      "__main__ (INFO) [2024-04-08 15:50:23]: train_loss: 0.6648554682731629, step: 1\n",
      "__main__ (INFO) [2024-04-08 15:50:29]: eval-accuracy: 0.699999988079071, epoch: 0\n",
      "__main__ (INFO) [2024-04-08 15:52:02]: train_loss: 0.6330114960670471, step: 2\n",
      "__main__ (INFO) [2024-04-08 15:52:33]: train_loss: 0.6463136792182922, step: 3\n",
      "__main__ (INFO) [2024-04-08 15:52:39]: eval-accuracy: 0.550000011920929, epoch: 1\n",
      "__main__ (INFO) [2024-04-08 15:54:42]: train_loss: 0.6741853356361389, step: 4\n",
      "__main__ (INFO) [2024-04-08 15:55:42]: train_loss: 0.6895410656929016, step: 5\n",
      "__main__ (INFO) [2024-04-08 15:55:54]: eval-accuracy: 0.6000000238418579, epoch: 2\n",
      "__main__ (INFO) [2024-04-08 16:00:02]: train_loss: 0.6658681392669678, step: 6\n",
      "__main__ (INFO) [2024-04-08 16:01:27]: train_loss: 0.6744162917137146, step: 7\n",
      "__main__ (INFO) [2024-04-08 16:01:44]: eval-accuracy: 0.6000000238418579, epoch: 3\n",
      "__main__ (INFO) [2024-04-08 16:05:57]: train_loss: 0.7045793533325195, step: 8\n"
     ]
    }
   ],
   "source": [
    "!python BLBPO-5G.py"
   ]
  },
  {
   "cell_type": "code",
   "execution_count": null,
   "id": "74f9b372-a7e4-4cb5-99c0-7caead5c9c78",
   "metadata": {
    "pycharm": {
     "name": "#%%\n"
    }
   },
   "outputs": [],
   "source": []
  }
 ],
 "metadata": {
  "kernelspec": {
   "display_name": "Python 3 (ipykernel)",
   "language": "python",
   "name": "python3"
  },
  "language_info": {
   "codemirror_mode": {
    "name": "ipython",
    "version": 3
   },
   "file_extension": ".py",
   "mimetype": "text/x-python",
   "name": "python",
   "nbconvert_exporter": "python",
   "pygments_lexer": "ipython3",
   "version": "3.8.10"
  }
 },
 "nbformat": 4,
 "nbformat_minor": 5
}