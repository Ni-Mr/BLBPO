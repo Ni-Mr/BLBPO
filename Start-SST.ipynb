{
 "cells": [
  {
   "cell_type": "code",
   "execution_count": null,
   "id": "bae2c494-450e-4c8c-a844-484f89e5b6d0",
   "metadata": {
    "pycharm": {
     "name": "#%%\n"
    }
   },
   "outputs": [
    {
     "name": "stdout",
     "output_type": "stream",
     "text": [
      "\u001B[34m\u001B[1mwandb\u001B[0m: Currently logged in as: \u001B[33mmrni\u001B[0m. Use \u001B[1m`wandb login --relogin`\u001B[0m to force relogin\n",
      "\u001B[34m\u001B[1mwandb\u001B[0m: Tracking run with wandb version 0.16.6\n",
      "\u001B[34m\u001B[1mwandb\u001B[0m: Run data is saved locally in \u001B[35m\u001B[1m/root/BLBPO/wandb/run-20240408_155615-34bbm9pt\u001B[0m\n",
      "\u001B[34m\u001B[1mwandb\u001B[0m: Run \u001B[1m`wandb offline`\u001B[0m to turn off syncing.\n",
      "\u001B[34m\u001B[1mwandb\u001B[0m: Syncing run \u001B[33mfanciful-star-4\u001B[0m\n",
      "\u001B[34m\u001B[1mwandb\u001B[0m: ⭐️ View project at \u001B[34m\u001B[4mhttps://wandb.ai/mrni/blackbox_prompt_tuning\u001B[0m\n",
      "\u001B[34m\u001B[1mwandb\u001B[0m: 🚀 View run at \u001B[34m\u001B[4mhttps://wandb.ai/mrni/blackbox_prompt_tuning/runs/34bbm9pt\u001B[0m\n",
      "100%|███████████████████████████████████████| 20/20 [00:00<00:00, 210769.05it/s]\n",
      "__main__ (INFO) [2024-04-08 15:56:18]: ***** Running training *****\n",
      "__main__ (INFO) [2024-04-08 15:56:18]:   Num Epochs = 300\n",
      "__main__ (INFO) [2024-04-08 15:56:18]:   Train data size = 20\n",
      "__main__ (INFO) [2024-04-08 15:56:18]:   Eval data size = 20\n",
      "__main__ (INFO) [2024-04-08 15:56:18]:   Example data size = 100\n",
      "__main__ (INFO) [2024-04-08 15:56:18]:   vocabulary size = 200\n",
      "__main__ (INFO) [2024-04-08 15:56:18]:   Gradient Accumulation steps = 5\n",
      "__main__ (INFO) [2024-04-08 15:56:18]:   Iterations of the upper level problem = 2\n",
      "__main__ (INFO) [2024-04-08 15:56:18]:   Iterations of the lower level problem = 2\n",
      "__main__ (INFO) [2024-04-08 15:56:18]:   Number of example = 4\n",
      "__main__ (INFO) [2024-04-08 15:56:18]:   Length of prompt = 70\n",
      "__main__ (INFO) [2024-04-08 15:57:44]: train_loss: 0.5165493369102478, step: 0\n",
      "__main__ (INFO) [2024-04-08 15:59:10]: train_loss: 0.4984565019607544, step: 1\n",
      "__main__ (INFO) [2024-04-08 15:59:28]: eval-accuracy: 0.8999999761581421, epoch: 0\n",
      "__main__ (INFO) [2024-04-08 16:03:42]: train_loss: 0.5141788423061371, step: 2\n",
      "__main__ (INFO) [2024-04-08 16:05:06]: train_loss: 0.510002076625824, step: 3\n",
      "__main__ (INFO) [2024-04-08 16:05:23]: eval-accuracy: 0.949999988079071, epoch: 1\n"
     ]
    }
   ],
   "source": [
    "!python BLBPO-SST.py"
   ]
  },
  {
   "cell_type": "code",
   "execution_count": null,
   "id": "74f9b372-a7e4-4cb5-99c0-7caead5c9c78",
   "metadata": {
    "pycharm": {
     "name": "#%%\n"
    }
   },
   "outputs": [],
   "source": []
  }
 ],
 "metadata": {
  "kernelspec": {
   "display_name": "Python 3 (ipykernel)",
   "language": "python",
   "name": "python3"
  },
  "language_info": {
   "codemirror_mode": {
    "name": "ipython",
    "version": 3
   },
   "file_extension": ".py",
   "mimetype": "text/x-python",
   "name": "python",
   "nbconvert_exporter": "python",
   "pygments_lexer": "ipython3",
   "version": "3.8.10"
  }
 },
 "nbformat": 4,
 "nbformat_minor": 5
}