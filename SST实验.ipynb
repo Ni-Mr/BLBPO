{
 "cells": [
  {
   "cell_type": "code",
   "execution_count": 1,
   "id": "94c7d6f4-c592-4f6e-82ad-062d2a0a3bf4",
   "metadata": {
    "tags": [],
    "pycharm": {
     "name": "#%%\n"
    }
   },
   "outputs": [
    {
     "name": "stdout",
     "output_type": "stream",
     "text": [
      "__main__ (ERROR) [2024-04-23 12:25:21]:  not exists\n",
      "100%|█████████████████████████████████████| 200/200 [00:00<00:00, 728177.78it/s]\n",
      "__main__ (INFO) [2024-04-23 12:25:21]: ***** Running testing *****\n",
      "__main__ (INFO) [2024-04-23 12:25:21]:   Test data size = 200\n",
      "__main__ (INFO) [2024-04-23 12:26:02]: accuracy-test: 0.7300000190734863\n"
     ]
    }
   ],
   "source": [
    "!python plain-SST.py"
   ]
  },
  {
   "cell_type": "code",
   "execution_count": 17,
   "id": "a5e1b780-d7f8-4d33-b3a9-6160b56b239e",
   "metadata": {
    "pycharm": {
     "name": "#%%\n"
    }
   },
   "outputs": [
    {
     "name": "stdout",
     "output_type": "stream",
     "text": [
      "100%|█████████████████████████████████████| 200/200 [00:00<00:00, 803506.51it/s]\n",
      "__main__ (INFO) [2024-04-23 12:47:57]: ***** Running testing *****\n",
      "__main__ (INFO) [2024-04-23 12:47:57]:   Test data size = 200\n",
      "note:\n",
      " because old by two do picture it kind can into there down moments old any feel being might itself could comedy do get most us thing fun sense screen ever the script I own story were too had never romantic original people s this seems performance better original n action another very on movie tale more get but films far bad films your makes that sense very LRB just fun\n",
      "__main__ (INFO) [2024-04-23 12:48:41]: accuracy-test: 0.8599999952316284\n"
     ]
    }
   ],
   "source": [
    "!python bdpl-SST.py"
   ]
  },
  {
   "cell_type": "code",
   "execution_count": 14,
   "id": "4ae1e2b7-4a3f-4ddd-a2a6-00607180cbc1",
   "metadata": {
    "pycharm": {
     "name": "#%%\n"
    }
   },
   "outputs": [
    {
     "name": "stdout",
     "output_type": "stream",
     "text": [
      "100%|█████████████████████████████████████| 200/200 [00:00<00:00, 715141.35it/s]\n",
      "__main__ (INFO) [2024-04-23 12:43:12]: ***** Running testing *****\n",
      "__main__ (INFO) [2024-04-23 12:43:12]:   Test data size = 200\n",
      "example:\n",
      " Question: How is the sentiment of the sentence \", but he appears miserable throughout as he swaggers through his scenes .\"? Note: [note]. Respond ONLY with \"Great\" or \"Terrible\". Answer: Terrible\n",
      "Question: How is the sentiment of the sentence \"`` unfilmable '' novels\"? Note: [note]. Respond ONLY with \"Great\" or \"Terrible\". Answer: Terrible\n",
      "Question: How is the sentiment of the sentence \"with such clarity\"? Note: [note]. Respond ONLY with \"Great\" or \"Terrible\". Answer: Great\n",
      "Question: How is the sentiment of the sentence \"between two gifted performers\"? Note: [note]. Respond ONLY with \"Great\" or \"Terrible\". Answer: Great\n",
      "\n",
      "__main__ (INFO) [2024-04-23 12:43:55]: accuracy-test: 0.925000011920929\n"
     ]
    }
   ],
   "source": [
    "!python fslt-SST.py"
   ]
  },
  {
   "cell_type": "code",
   "execution_count": 12,
   "id": "455ee1b8-a3d4-4210-b8ee-c22231f417a8",
   "metadata": {
    "tags": [],
    "pycharm": {
     "name": "#%%\n"
    }
   },
   "outputs": [
    {
     "name": "stdout",
     "output_type": "stream",
     "text": [
      "100%|█████████████████████████████████████| 200/200 [00:00<00:00, 801970.17it/s]\n",
      "__main__ (INFO) [2024-04-23 12:41:02]: ***** Running testing *****\n",
      "__main__ (INFO) [2024-04-23 12:41:02]:   Test data size = 200\n",
      "example:\n",
      " Question: How is the sentiment of the sentence \"in three words : thumbs friggin ' down\"? Note: [note]. Respond ONLY with \"Great\" or \"Terrible\". Answer: Terrible\n",
      "Question: How is the sentiment of the sentence \"of the whole dead-undead genre , who deserve more from a vampire pic than a few shrieky special effects\"? Note: [note]. Respond ONLY with \"Great\" or \"Terrible\". Answer: Terrible\n",
      "Question: How is the sentiment of the sentence \"funny film .\"? Note: [note]. Respond ONLY with \"Great\" or \"Terrible\". Answer: Great\n",
      "Question: How is the sentiment of the sentence \"a servicable world war ii drama\"? Note: [note]. Respond ONLY with \"Great\" or \"Terrible\". Answer: Great\n",
      "\n",
      "note:\n",
      " very characters entertaining better ca cast every would be that family entertaining get are but all here picture quite more feels other own should moments people this work heart heart re between real n go minutes down if love you another ve there hard entertaining great characters to or in romantic they also quite new this director no his as of ve while something s documentary feels the not director\n",
      "__main__ (INFO) [2024-04-23 12:41:53]: accuracy-test: 0.9499999976158142\n"
     ]
    }
   ],
   "source": [
    "!python blbpo-SST.py"
   ]
  },
  {
   "cell_type": "code",
   "execution_count": null,
   "id": "85864e5e-a886-443a-aafb-05463d199d32",
   "metadata": {
    "pycharm": {
     "name": "#%%\n"
    }
   },
   "outputs": [],
   "source": []
  }
 ],
 "metadata": {
  "kernelspec": {
   "display_name": "Python 3 (ipykernel)",
   "language": "python",
   "name": "python3"
  },
  "language_info": {
   "codemirror_mode": {
    "name": "ipython",
    "version": 3
   },
   "file_extension": ".py",
   "mimetype": "text/x-python",
   "name": "python",
   "nbconvert_exporter": "python",
   "pygments_lexer": "ipython3",
   "version": "3.8.10"
  }
 },
 "nbformat": 4,
 "nbformat_minor": 5
}